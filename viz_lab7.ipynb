{
 "cells": [
  {
   "cell_type": "code",
   "execution_count": 1,
   "id": "05845425",
   "metadata": {
    "ExecuteTime": {
     "end_time": "2021-11-27T15:21:06.190145Z",
     "start_time": "2021-11-27T15:21:04.479408Z"
    }
   },
   "outputs": [],
   "source": [
    "import matplotlib.pyplot as plt\n",
    "from score_viz import score\n",
    "from pprint import pprint"
   ]
  },
  {
   "cell_type": "code",
   "execution_count": 2,
   "id": "5b4f4408",
   "metadata": {
    "ExecuteTime": {
     "end_time": "2021-11-27T15:21:06.226086Z",
     "start_time": "2021-11-27T15:21:06.193353Z"
    }
   },
   "outputs": [
    {
     "name": "stdout",
     "output_type": "stream",
     "text": [
      "{(4, 3): {300: {'entropy': 0.8439747225954124, 'gini': 0.8407012272287414},\n",
      "          350: {'entropy': 0.8528941087339307, 'gini': 0.8288206005427755},\n",
      "          400: {'entropy': 0.8457317012489426, 'gini': 0.8561036681815747},\n",
      "          500: {'entropy': 0.8457590685176892, 'gini': 0.8269221628045157}},\n",
      " (6, 4): {300: {'entropy': 0.900609058872816, 'gini': 0.8872032617713665},\n",
      "          350: {'entropy': 0.9064663714948346, 'gini': 0.906217177067141},\n",
      "          400: {'entropy': 0.9054181411012531, 'gini': 0.9138945964219797},\n",
      "          500: {'entropy': 0.9117866650504223, 'gini': 0.906217177067141}},\n",
      " (8, 4): {300: {'entropy': 0.911075909898884, 'gini': 0.911375790424571},\n",
      "          350: {'entropy': 0.9039683830171634, 'gini': 0.905425429726997},\n",
      "          400: {'entropy': 0.911075909898884, 'gini': 0.9123137796181273},\n",
      "          500: {'entropy': 0.911075909898884, 'gini': 0.9215461454742166}},\n",
      " (10, 4): {300: {'entropy': 0.9203868040561589, 'gini': 0.9132923525749612},\n",
      "           350: {'entropy': 0.9181643688795642, 'gini': 0.9197891756443651},\n",
      "           400: {'entropy': 0.9143522604090627, 'gini': 0.9132923525749612},\n",
      "           500: {'entropy': 0.9125592284060027, 'gini': 0.9114993205719012}}}\n"
     ]
    }
   ],
   "source": [
    "st_score = score[\"stat\"]\n",
    "pprint(st_score)"
   ]
  },
  {
   "cell_type": "code",
   "execution_count": 15,
   "id": "25e0c444",
   "metadata": {
    "ExecuteTime": {
     "end_time": "2021-11-27T15:40:33.352593Z",
     "start_time": "2021-11-27T15:40:33.133708Z"
    },
    "scrolled": false
   },
   "outputs": [
    {
     "data": {
      "image/png": "[encoded data removed]",
      "text/plain": [
       "<Figure size 432x288 with 1 Axes>"
      ]
     },
     "metadata": {
      "needs_background": "light"
     },
     "output_type": "display_data"
    }
   ],
   "source": [
    "n_estimators = [300, 350, 400, 500]\n",
    "\n",
    "grid_43 = [0.8407, 0.8288, 0.8561, 0.8269]\n",
    "grid_64 = [0.8872, 0.9062, 0.9139, 0.9062]\n",
    "grid_84 = [0.9114, 0.9054, 0.9123, 0.9215]\n",
    "grid_104 = [0.9132, 0.9197, 0.9133, 0.9115]\n",
    "\n",
    "fig, ax = plt.subplots()\n",
    "ax.plot(n_estimators, grid_43, c = \"g\", label = \"(4,3)\")\n",
    "ax.scatter(n_estimators, grid_43, c = \"g\")\n",
    "\n",
    "ax.plot(n_estimators, grid_64, c = \"r\", label = \"(6,4)\")\n",
    "ax.scatter(n_estimators, grid_64, c = \"r\")\n",
    "\n",
    "ax.plot(n_estimators, grid_84, c = \"b\", label = \"(8,4)\")\n",
    "ax.scatter(n_estimators, grid_84, c = \"b\")\n",
    "\n",
    "ax.plot(n_estimators, grid_104, c = \"grey\", label = \"(10,4)\")\n",
    "ax.scatter(n_estimators, grid_104, c = \"grey\")\n",
    "\n",
    "ax.legend()\n",
    "ax.grid(which = \"major\")"
   ]
  },
  {
   "cell_type": "code",
   "execution_count": null,
   "id": "6432c5b7",
   "metadata": {},
   "outputs": [],
   "source": []
  }
 ],
 "metadata": {
  "kernelspec": {
   "display_name": "Python 3",
   "language": "python",
   "name": "python3"
  },
  "language_info": {
   "codemirror_mode": {
    "name": "ipython",
    "version": 3
   },
   "file_extension": ".py",
   "mimetype": "text/x-python",
   "name": "python",
   "nbconvert_exporter": "python",
   "pygments_lexer": "ipython3",
   "version": "3.8.8"
  },
  "toc": {
   "base_numbering": 1,
   "nav_menu": {},
   "number_sections": true,
   "sideBar": true,
   "skip_h1_title": false,
   "title_cell": "Table of Contents",
   "title_sidebar": "Contents",
   "toc_cell": false,
   "toc_position": {},
   "toc_section_display": true,
   "toc_window_display": false
  },
  "varInspector": {
   "cols": {
    "lenName": 16,
    "lenType": 16,
    "lenVar": 40
   },
   "kernels_config": {
    "python": {
     "delete_cmd_postfix": "",
     "delete_cmd_prefix": "del ",
     "library": "var_list.py",
     "varRefreshCmd": "print(var_dic_list())"
    },
    "r": {
     "delete_cmd_postfix": ") ",
     "delete_cmd_prefix": "rm(",
     "library": "var_list.r",
     "varRefreshCmd": "cat(var_dic_list()) "
    }
   },
   "types_to_exclude": [
    "module",
    "function",
    "builtin_function_or_method",
    "instance",
    "_Feature"
   ],
   "window_display": false
  }
 },
 "nbformat": 4,
 "nbformat_minor": 5
}
